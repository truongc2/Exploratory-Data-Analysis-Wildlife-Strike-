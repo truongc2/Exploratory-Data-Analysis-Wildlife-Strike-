{
 "cells": [
  {
   "cell_type": "code",
   "execution_count": 1,
   "metadata": {},
   "outputs": [],
   "source": [
    "import pandas as pd\n",
    "\n",
    "import matplotlib.pyplot as plt\n",
    "plt.style.use('classic')\n",
    "%matplotlib inline\n",
    "\n",
    "import seaborn as sns\n",
    "sns.set(style=\"whitegrid\", color_codes=True)\n"
   ]
  },
  {
   "cell_type": "code",
   "execution_count": 2,
   "metadata": {},
   "outputs": [],
   "source": [
    "path = '~/Desktop/database.csv'"
   ]
  },
  {
   "cell_type": "code",
   "execution_count": 3,
   "metadata": {},
   "outputs": [],
   "source": [
    "plane_data = pd.read_csv(path, low_memory = False,\n",
    "                         na_values=['UNKNOWN', 'UNK'],### Adds UNKNOWN and UNK to list of NULLs\n",
    "                         na_filter=True,                         ### Detect NA/NaN as actual NULL values\n",
    "                         skip_blank_lines=True)"
   ]
  },
  {
   "cell_type": "code",
   "execution_count": 4,
   "metadata": {},
   "outputs": [
    {
     "data": {
      "text/html": [
       "<div>\n",
       "<style scoped>\n",
       "    .dataframe tbody tr th:only-of-type {\n",
       "        vertical-align: middle;\n",
       "    }\n",
       "\n",
       "    .dataframe tbody tr th {\n",
       "        vertical-align: top;\n",
       "    }\n",
       "\n",
       "    .dataframe thead th {\n",
       "        text-align: right;\n",
       "    }\n",
       "</style>\n",
       "<table border=\"1\" class=\"dataframe\">\n",
       "  <thead>\n",
       "    <tr style=\"text-align: right;\">\n",
       "      <th></th>\n",
       "      <th>Record ID</th>\n",
       "      <th>Incident Year</th>\n",
       "      <th>Incident Month</th>\n",
       "      <th>Incident Day</th>\n",
       "      <th>Operator ID</th>\n",
       "      <th>Operator</th>\n",
       "      <th>Aircraft</th>\n",
       "      <th>Aircraft Type</th>\n",
       "      <th>Aircraft Make</th>\n",
       "      <th>Aircraft Model</th>\n",
       "      <th>...</th>\n",
       "      <th>Fuselage Strike</th>\n",
       "      <th>Fuselage Damage</th>\n",
       "      <th>Landing Gear Strike</th>\n",
       "      <th>Landing Gear Damage</th>\n",
       "      <th>Tail Strike</th>\n",
       "      <th>Tail Damage</th>\n",
       "      <th>Lights Strike</th>\n",
       "      <th>Lights Damage</th>\n",
       "      <th>Other Strike</th>\n",
       "      <th>Other Damage</th>\n",
       "    </tr>\n",
       "  </thead>\n",
       "  <tbody>\n",
       "    <tr>\n",
       "      <th>0</th>\n",
       "      <td>127128</td>\n",
       "      <td>1990</td>\n",
       "      <td>1</td>\n",
       "      <td>1</td>\n",
       "      <td>DAL</td>\n",
       "      <td>DELTA AIR LINES</td>\n",
       "      <td>B-757-200</td>\n",
       "      <td>A</td>\n",
       "      <td>148</td>\n",
       "      <td>26</td>\n",
       "      <td>...</td>\n",
       "      <td>0</td>\n",
       "      <td>0</td>\n",
       "      <td>0</td>\n",
       "      <td>0</td>\n",
       "      <td>1</td>\n",
       "      <td>1</td>\n",
       "      <td>0</td>\n",
       "      <td>0</td>\n",
       "      <td>0</td>\n",
       "      <td>0</td>\n",
       "    </tr>\n",
       "    <tr>\n",
       "      <th>1</th>\n",
       "      <td>129779</td>\n",
       "      <td>1990</td>\n",
       "      <td>1</td>\n",
       "      <td>1</td>\n",
       "      <td>HAL</td>\n",
       "      <td>HAWAIIAN AIR</td>\n",
       "      <td>DC-9</td>\n",
       "      <td>A</td>\n",
       "      <td>583</td>\n",
       "      <td>90</td>\n",
       "      <td>...</td>\n",
       "      <td>0</td>\n",
       "      <td>0</td>\n",
       "      <td>0</td>\n",
       "      <td>0</td>\n",
       "      <td>0</td>\n",
       "      <td>0</td>\n",
       "      <td>0</td>\n",
       "      <td>0</td>\n",
       "      <td>1</td>\n",
       "      <td>0</td>\n",
       "    </tr>\n",
       "    <tr>\n",
       "      <th>2</th>\n",
       "      <td>129780</td>\n",
       "      <td>1990</td>\n",
       "      <td>1</td>\n",
       "      <td>2</td>\n",
       "      <td>NaN</td>\n",
       "      <td>NaN</td>\n",
       "      <td>NaN</td>\n",
       "      <td>NaN</td>\n",
       "      <td>NaN</td>\n",
       "      <td>NaN</td>\n",
       "      <td>...</td>\n",
       "      <td>0</td>\n",
       "      <td>0</td>\n",
       "      <td>0</td>\n",
       "      <td>0</td>\n",
       "      <td>0</td>\n",
       "      <td>0</td>\n",
       "      <td>0</td>\n",
       "      <td>0</td>\n",
       "      <td>0</td>\n",
       "      <td>0</td>\n",
       "    </tr>\n",
       "    <tr>\n",
       "      <th>3</th>\n",
       "      <td>2258</td>\n",
       "      <td>1990</td>\n",
       "      <td>1</td>\n",
       "      <td>3</td>\n",
       "      <td>MIL</td>\n",
       "      <td>MILITARY</td>\n",
       "      <td>A-10A</td>\n",
       "      <td>A</td>\n",
       "      <td>345</td>\n",
       "      <td>NaN</td>\n",
       "      <td>...</td>\n",
       "      <td>0</td>\n",
       "      <td>0</td>\n",
       "      <td>0</td>\n",
       "      <td>0</td>\n",
       "      <td>0</td>\n",
       "      <td>0</td>\n",
       "      <td>0</td>\n",
       "      <td>0</td>\n",
       "      <td>0</td>\n",
       "      <td>0</td>\n",
       "    </tr>\n",
       "    <tr>\n",
       "      <th>4</th>\n",
       "      <td>2257</td>\n",
       "      <td>1990</td>\n",
       "      <td>1</td>\n",
       "      <td>3</td>\n",
       "      <td>MIL</td>\n",
       "      <td>MILITARY</td>\n",
       "      <td>F-16</td>\n",
       "      <td>A</td>\n",
       "      <td>561</td>\n",
       "      <td>NaN</td>\n",
       "      <td>...</td>\n",
       "      <td>0</td>\n",
       "      <td>0</td>\n",
       "      <td>0</td>\n",
       "      <td>0</td>\n",
       "      <td>0</td>\n",
       "      <td>0</td>\n",
       "      <td>0</td>\n",
       "      <td>0</td>\n",
       "      <td>0</td>\n",
       "      <td>0</td>\n",
       "    </tr>\n",
       "  </tbody>\n",
       "</table>\n",
       "<p>5 rows × 66 columns</p>\n",
       "</div>"
      ],
      "text/plain": [
       "   Record ID  Incident Year  Incident Month  Incident Day Operator ID  \\\n",
       "0     127128           1990               1             1         DAL   \n",
       "1     129779           1990               1             1         HAL   \n",
       "2     129780           1990               1             2         NaN   \n",
       "3       2258           1990               1             3         MIL   \n",
       "4       2257           1990               1             3         MIL   \n",
       "\n",
       "          Operator   Aircraft Aircraft Type Aircraft Make Aircraft Model  \\\n",
       "0  DELTA AIR LINES  B-757-200             A           148             26   \n",
       "1     HAWAIIAN AIR       DC-9             A           583             90   \n",
       "2              NaN        NaN           NaN           NaN            NaN   \n",
       "3         MILITARY      A-10A             A           345            NaN   \n",
       "4         MILITARY       F-16             A           561            NaN   \n",
       "\n",
       "      ...       Fuselage Strike  Fuselage Damage Landing Gear Strike  \\\n",
       "0     ...                     0                0                   0   \n",
       "1     ...                     0                0                   0   \n",
       "2     ...                     0                0                   0   \n",
       "3     ...                     0                0                   0   \n",
       "4     ...                     0                0                   0   \n",
       "\n",
       "   Landing Gear Damage Tail Strike Tail Damage  Lights Strike Lights Damage  \\\n",
       "0                    0           1           1              0             0   \n",
       "1                    0           0           0              0             0   \n",
       "2                    0           0           0              0             0   \n",
       "3                    0           0           0              0             0   \n",
       "4                    0           0           0              0             0   \n",
       "\n",
       "   Other Strike Other Damage  \n",
       "0             0            0  \n",
       "1             1            0  \n",
       "2             0            0  \n",
       "3             0            0  \n",
       "4             0            0  \n",
       "\n",
       "[5 rows x 66 columns]"
      ]
     },
     "execution_count": 4,
     "metadata": {},
     "output_type": "execute_result"
    }
   ],
   "source": [
    "plane_data.head()"
   ]
  },
  {
   "cell_type": "code",
   "execution_count": 5,
   "metadata": {},
   "outputs": [
    {
     "data": {
      "text/plain": [
       "Text(0.5,1,'Birdstrikes per Year')"
      ]
     },
     "execution_count": 5,
     "metadata": {},
     "output_type": "execute_result"
    },
    {
     "data": {
      "image/png": "[encoded data removed]",
      "text/plain": [
       "<matplotlib.figure.Figure at 0x109ebf898>"
      ]
     },
     "metadata": {},
     "output_type": "display_data"
    }
   ],
   "source": [
    "plane_data['Incident Year'].value_counts(ascending = True).plot.bar()\n",
    "plt.xlabel(\"Incident Year\", fontsize=20)\n",
    "plt.ylabel(\"Total # of Birdstrikes\", fontsize=20)\n",
    "plt.title(\"Birdstrikes per Year\", fontsize=20)\n",
    "\n",
    "\n",
    "\n"
   ]
  },
  {
   "cell_type": "code",
   "execution_count": 6,
   "metadata": {},
   "outputs": [
    {
     "data": {
      "text/html": [
       "<div>\n",
       "<style scoped>\n",
       "    .dataframe tbody tr th:only-of-type {\n",
       "        vertical-align: middle;\n",
       "    }\n",
       "\n",
       "    .dataframe tbody tr th {\n",
       "        vertical-align: top;\n",
       "    }\n",
       "\n",
       "    .dataframe thead th {\n",
       "        text-align: right;\n",
       "    }\n",
       "</style>\n",
       "<table border=\"1\" class=\"dataframe\">\n",
       "  <thead>\n",
       "    <tr style=\"text-align: right;\">\n",
       "      <th></th>\n",
       "      <th>Record ID</th>\n",
       "      <th>Incident Year</th>\n",
       "      <th>Incident Month</th>\n",
       "      <th>Incident Day</th>\n",
       "      <th>Operator</th>\n",
       "      <th>Aircraft</th>\n",
       "      <th>Species Name</th>\n",
       "      <th>Warning Issued</th>\n",
       "      <th>Flight Phase</th>\n",
       "    </tr>\n",
       "  </thead>\n",
       "  <tbody>\n",
       "    <tr>\n",
       "      <th>0</th>\n",
       "      <td>127128</td>\n",
       "      <td>1990</td>\n",
       "      <td>1</td>\n",
       "      <td>1</td>\n",
       "      <td>DELTA AIR LINES</td>\n",
       "      <td>B-757-200</td>\n",
       "      <td>GULL</td>\n",
       "      <td>NaN</td>\n",
       "      <td>CLIMB</td>\n",
       "    </tr>\n",
       "    <tr>\n",
       "      <th>1</th>\n",
       "      <td>129779</td>\n",
       "      <td>1990</td>\n",
       "      <td>1</td>\n",
       "      <td>1</td>\n",
       "      <td>HAWAIIAN AIR</td>\n",
       "      <td>DC-9</td>\n",
       "      <td>HOUSE SPARROW</td>\n",
       "      <td>NaN</td>\n",
       "      <td>TAKEOFF RUN</td>\n",
       "    </tr>\n",
       "  </tbody>\n",
       "</table>\n",
       "</div>"
      ],
      "text/plain": [
       "   Record ID  Incident Year  Incident Month  Incident Day         Operator  \\\n",
       "0     127128           1990               1             1  DELTA AIR LINES   \n",
       "1     129779           1990               1             1     HAWAIIAN AIR   \n",
       "\n",
       "    Aircraft   Species Name Warning Issued Flight Phase  \n",
       "0  B-757-200           GULL            NaN        CLIMB  \n",
       "1       DC-9  HOUSE SPARROW            NaN  TAKEOFF RUN  "
      ]
     },
     "execution_count": 6,
     "metadata": {},
     "output_type": "execute_result"
    }
   ],
   "source": [
    "column_names = ['Record ID','Incident Year', 'Incident Month', 'Incident Day', 'Operator', 'Aircraft','Species Name','Warning Issued','Flight Phase']\n",
    "\n",
    "plane_data = plane_data[column_names]\n",
    "plane_data.head(2)"
   ]
  },
  {
   "cell_type": "code",
   "execution_count": 7,
   "metadata": {},
   "outputs": [
    {
     "data": {
      "text/plain": [
       "<matplotlib.axes._subplots.AxesSubplot at 0x10ab36a20>"
      ]
     },
     "execution_count": 7,
     "metadata": {},
     "output_type": "execute_result"
    },
    {
     "data": {
      "image/png": "[encoded data removed]",
      "text/plain": [
       "<matplotlib.figure.Figure at 0x109f28a58>"
      ]
     },
     "metadata": {},
     "output_type": "display_data"
    }
   ],
   "source": [
    "plane_data.groupby('Incident Month')['Record ID'].count().plot.line()\n"
   ]
  },
  {
   "cell_type": "code",
   "execution_count": 8,
   "metadata": {},
   "outputs": [],
   "source": [
    "months_dict = {1:'Jan','1':'Jan', 2:'Feb', 3:'March',\n",
    "               4:'April', 5:'May', 6:'June',\n",
    "               7:'July',8:'August', 9: 'Sept',\n",
    "               10:'Oct', 11:'Nov', 12:'Dec'}"
   ]
  },
  {
   "cell_type": "code",
   "execution_count": 9,
   "metadata": {},
   "outputs": [
    {
     "data": {
      "text/html": [
       "<div>\n",
       "<style scoped>\n",
       "    .dataframe tbody tr th:only-of-type {\n",
       "        vertical-align: middle;\n",
       "    }\n",
       "\n",
       "    .dataframe tbody tr th {\n",
       "        vertical-align: top;\n",
       "    }\n",
       "\n",
       "    .dataframe thead th {\n",
       "        text-align: right;\n",
       "    }\n",
       "</style>\n",
       "<table border=\"1\" class=\"dataframe\">\n",
       "  <thead>\n",
       "    <tr style=\"text-align: right;\">\n",
       "      <th></th>\n",
       "      <th>Record ID</th>\n",
       "      <th>Incident Year</th>\n",
       "      <th>Incident Month</th>\n",
       "      <th>Incident Day</th>\n",
       "      <th>Operator</th>\n",
       "      <th>Aircraft</th>\n",
       "      <th>Species Name</th>\n",
       "      <th>Warning Issued</th>\n",
       "      <th>Flight Phase</th>\n",
       "    </tr>\n",
       "  </thead>\n",
       "  <tbody>\n",
       "    <tr>\n",
       "      <th>0</th>\n",
       "      <td>127128</td>\n",
       "      <td>1990</td>\n",
       "      <td>Jan</td>\n",
       "      <td>1</td>\n",
       "      <td>DELTA AIR LINES</td>\n",
       "      <td>B-757-200</td>\n",
       "      <td>GULL</td>\n",
       "      <td>NaN</td>\n",
       "      <td>CLIMB</td>\n",
       "    </tr>\n",
       "    <tr>\n",
       "      <th>1</th>\n",
       "      <td>129779</td>\n",
       "      <td>1990</td>\n",
       "      <td>Jan</td>\n",
       "      <td>1</td>\n",
       "      <td>HAWAIIAN AIR</td>\n",
       "      <td>DC-9</td>\n",
       "      <td>HOUSE SPARROW</td>\n",
       "      <td>NaN</td>\n",
       "      <td>TAKEOFF RUN</td>\n",
       "    </tr>\n",
       "    <tr>\n",
       "      <th>2</th>\n",
       "      <td>129780</td>\n",
       "      <td>1990</td>\n",
       "      <td>Jan</td>\n",
       "      <td>2</td>\n",
       "      <td>NaN</td>\n",
       "      <td>NaN</td>\n",
       "      <td>BARN OWL</td>\n",
       "      <td>NaN</td>\n",
       "      <td>NaN</td>\n",
       "    </tr>\n",
       "    <tr>\n",
       "      <th>3</th>\n",
       "      <td>2258</td>\n",
       "      <td>1990</td>\n",
       "      <td>Jan</td>\n",
       "      <td>3</td>\n",
       "      <td>MILITARY</td>\n",
       "      <td>A-10A</td>\n",
       "      <td>UNKNOWN MEDIUM BIRD</td>\n",
       "      <td>NaN</td>\n",
       "      <td>APPROACH</td>\n",
       "    </tr>\n",
       "    <tr>\n",
       "      <th>4</th>\n",
       "      <td>2257</td>\n",
       "      <td>1990</td>\n",
       "      <td>Jan</td>\n",
       "      <td>3</td>\n",
       "      <td>MILITARY</td>\n",
       "      <td>F-16</td>\n",
       "      <td>FINCH</td>\n",
       "      <td>NaN</td>\n",
       "      <td>CLIMB</td>\n",
       "    </tr>\n",
       "  </tbody>\n",
       "</table>\n",
       "</div>"
      ],
      "text/plain": [
       "   Record ID  Incident Year Incident Month  Incident Day         Operator  \\\n",
       "0     127128           1990            Jan             1  DELTA AIR LINES   \n",
       "1     129779           1990            Jan             1     HAWAIIAN AIR   \n",
       "2     129780           1990            Jan             2              NaN   \n",
       "3       2258           1990            Jan             3         MILITARY   \n",
       "4       2257           1990            Jan             3         MILITARY   \n",
       "\n",
       "    Aircraft         Species Name Warning Issued Flight Phase  \n",
       "0  B-757-200                 GULL            NaN        CLIMB  \n",
       "1       DC-9        HOUSE SPARROW            NaN  TAKEOFF RUN  \n",
       "2        NaN             BARN OWL            NaN          NaN  \n",
       "3      A-10A  UNKNOWN MEDIUM BIRD            NaN     APPROACH  \n",
       "4       F-16                FINCH            NaN        CLIMB  "
      ]
     },
     "execution_count": 9,
     "metadata": {},
     "output_type": "execute_result"
    }
   ],
   "source": [
    "plane_data['Incident Month'] = plane_data['Incident Month'].map(months_dict)\n",
    "plane_data.head()\n",
    "\n"
   ]
  },
  {
   "cell_type": "code",
   "execution_count": 10,
   "metadata": {},
   "outputs": [
    {
     "data": {
      "text/plain": [
       "Text(0.5,1,'Birdstrikes per Month')"
      ]
     },
     "execution_count": 10,
     "metadata": {},
     "output_type": "execute_result"
    },
    {
     "data": {
      "image/png": "[encoded data removed]",
      "text/plain": [
       "<matplotlib.figure.Figure at 0x1a148f3be0>"
      ]
     },
     "metadata": {},
     "output_type": "display_data"
    }
   ],
   "source": [
    "plane_data['Incident Month'].value_counts().plot.bar()\n",
    "plt.xlabel(\"Incident Month\", fontsize=20)\n",
    "plt.ylabel(\"Total # of Birdstrikes\", fontsize=20)\n",
    "plt.title(\"Birdstrikes per Month\", fontsize=20)\n",
    "\n",
    "# Seems to be more birdstrikes in the warmer months. Possibly due to the migration of birds.\n"
   ]
  },
  {
   "cell_type": "code",
   "execution_count": 11,
   "metadata": {},
   "outputs": [
    {
     "data": {
      "text/plain": [
       "<matplotlib.axes._subplots.AxesSubplot at 0x1a16ebeef0>"
      ]
     },
     "execution_count": 11,
     "metadata": {},
     "output_type": "execute_result"
    },
    {
     "data": {
      "image/png": "[encoded data removed]",
      "text/plain": [
       "<matplotlib.figure.Figure at 0x10abab828>"
      ]
     },
     "metadata": {},
     "output_type": "display_data"
    }
   ],
   "source": [
    "species_name = (     plane_data[~plane_data['Species Name']\n",
    "            .isin(['UNKNOWN MEDIUM BIRD', 'UNKNOWN SMALL BIRD','UNKNOWN LARGE BIRD', 'UNKNOWN BIRD'])]    )\n",
    "# Remove unknown bird species                             \n",
    "\n",
    "species_name['Species Name'].value_counts().head(10).plot.bar()\n"
   ]
  },
  {
   "cell_type": "code",
   "execution_count": 12,
   "metadata": {},
   "outputs": [
    {
     "data": {
      "text/plain": [
       "<matplotlib.axes._subplots.AxesSubplot at 0x1a16ebe470>"
      ]
     },
     "execution_count": 12,
     "metadata": {},
     "output_type": "execute_result"
    },
    {
     "data": {
      "image/png": "[encoded data removed]",
      "text/plain": [
       "<matplotlib.figure.Figure at 0x1a16dcac18>"
      ]
     },
     "metadata": {},
     "output_type": "display_data"
    }
   ],
   "source": [
    "plane_data['Species Name'].value_counts(ascending = False).head(10).plot.pie() \n",
    "#Most Birds are unknown but relative size was predicted in the data"
   ]
  },
  {
   "cell_type": "code",
   "execution_count": 13,
   "metadata": {},
   "outputs": [
    {
     "data": {
      "text/plain": [
       "<matplotlib.axes._subplots.AxesSubplot at 0x1a18733518>"
      ]
     },
     "execution_count": 13,
     "metadata": {},
     "output_type": "execute_result"
    },
    {
     "data": {
      "image/png": "[encoded data removed]",
      "text/plain": [
       "<matplotlib.figure.Figure at 0x1a16dc1160>"
      ]
     },
     "metadata": {},
     "output_type": "display_data"
    }
   ],
   "source": [
    "plane_data['Flight Phase'].value_counts().plot.bar() # most bird strikes are during takeoff, low altitudes, and landing"
   ]
  },
  {
   "cell_type": "code",
   "execution_count": 14,
   "metadata": {},
   "outputs": [
    {
     "data": {
      "text/plain": [
       "<matplotlib.axes._subplots.AxesSubplot at 0x1a1874f6a0>"
      ]
     },
     "execution_count": 14,
     "metadata": {},
     "output_type": "execute_result"
    },
    {
     "data": {
      "image/png": "[encoded data removed]",
      "text/plain": [
       "<matplotlib.figure.Figure at 0x1a187574e0>"
      ]
     },
     "metadata": {},
     "output_type": "display_data"
    }
   ],
   "source": [
    "plane_data['Incident Day'].value_counts(ascending = True).plot.bar()\n"
   ]
  },
  {
   "cell_type": "code",
   "execution_count": 15,
   "metadata": {},
   "outputs": [
    {
     "data": {
      "text/plain": [
       "<matplotlib.axes._subplots.AxesSubplot at 0x1a1b9879b0>"
      ]
     },
     "execution_count": 15,
     "metadata": {},
     "output_type": "execute_result"
    },
    {
     "data": {
      "image/png": "[encoded data removed]",
      "text/plain": [
       "<matplotlib.figure.Figure at 0x1a1b9990b8>"
      ]
     },
     "metadata": {},
     "output_type": "display_data"
    }
   ],
   "source": [
    "plane_data['Operator'].value_counts(ascending = False).head(10).plot.bar()\n"
   ]
  },
  {
   "cell_type": "code",
   "execution_count": 17,
   "metadata": {},
   "outputs": [
    {
     "data": {
      "text/plain": [
       "(array([0, 1]), <a list of 2 Text xticklabel objects>)"
      ]
     },
     "execution_count": 17,
     "metadata": {},
     "output_type": "execute_result"
    },
    {
     "data": {
      "image/png": "[encoded data removed]",
      "text/plain": [
       "<matplotlib.figure.Figure at 0x1a23ef96a0>"
      ]
     },
     "metadata": {},
     "output_type": "display_data"
    }
   ],
   "source": [
    "warning_column = plane_data[plane_data['Warning Issued'].isin(['y','n','Y','N'])] ['Warning Issued']\n",
    "warning_column.map(lambda x: x.upper()).value_counts(ascending = False).head(10).plot.bar()\n",
    "plt.xticks(rotation=360)\n",
    "\n"
   ]
  },
  {
   "cell_type": "code",
   "execution_count": 29,
   "metadata": {},
   "outputs": [
    {
     "data": {
      "text/html": [
       "<div>\n",
       "<style scoped>\n",
       "    .dataframe tbody tr th:only-of-type {\n",
       "        vertical-align: middle;\n",
       "    }\n",
       "\n",
       "    .dataframe tbody tr th {\n",
       "        vertical-align: top;\n",
       "    }\n",
       "\n",
       "    .dataframe thead th {\n",
       "        text-align: right;\n",
       "    }\n",
       "</style>\n",
       "<table border=\"1\" class=\"dataframe\">\n",
       "  <thead>\n",
       "    <tr style=\"text-align: right;\">\n",
       "      <th>Operator</th>\n",
       "      <th>1US AIRWAYS</th>\n",
       "      <th>ABELAG AVIATION</th>\n",
       "      <th>ABSA AEROLINHAS BRASILEIRAS</th>\n",
       "      <th>ABX AIR</th>\n",
       "      <th>ACM AVIATION</th>\n",
       "      <th>ACTION AIRLINES</th>\n",
       "      <th>ADI SHUTTLE GROUP</th>\n",
       "      <th>AER LINGUS</th>\n",
       "      <th>AERO AIR</th>\n",
       "      <th>AERO CHARTER AND TRANSPORT</th>\n",
       "      <th>...</th>\n",
       "      <th>WINAIR</th>\n",
       "      <th>WINGS WEST</th>\n",
       "      <th>WORLD AIRWAYS</th>\n",
       "      <th>WORLD ATLANTIC AIRLINES</th>\n",
       "      <th>WORLDWIDE JET CHARTER</th>\n",
       "      <th>XIAMEN AIRLINES</th>\n",
       "      <th>XL AIRWAYS UK</th>\n",
       "      <th>XOJET</th>\n",
       "      <th>XTRA AIRWAYS</th>\n",
       "      <th>ZANTOP INTL AIRLINES</th>\n",
       "    </tr>\n",
       "    <tr>\n",
       "      <th>Flight Phase</th>\n",
       "      <th></th>\n",
       "      <th></th>\n",
       "      <th></th>\n",
       "      <th></th>\n",
       "      <th></th>\n",
       "      <th></th>\n",
       "      <th></th>\n",
       "      <th></th>\n",
       "      <th></th>\n",
       "      <th></th>\n",
       "      <th></th>\n",
       "      <th></th>\n",
       "      <th></th>\n",
       "      <th></th>\n",
       "      <th></th>\n",
       "      <th></th>\n",
       "      <th></th>\n",
       "      <th></th>\n",
       "      <th></th>\n",
       "      <th></th>\n",
       "      <th></th>\n",
       "    </tr>\n",
       "  </thead>\n",
       "  <tbody>\n",
       "    <tr>\n",
       "      <th>APPROACH</th>\n",
       "      <td>1454</td>\n",
       "      <td>1</td>\n",
       "      <td>1</td>\n",
       "      <td>462</td>\n",
       "      <td>0</td>\n",
       "      <td>5</td>\n",
       "      <td>8</td>\n",
       "      <td>9</td>\n",
       "      <td>1</td>\n",
       "      <td>0</td>\n",
       "      <td>...</td>\n",
       "      <td>0</td>\n",
       "      <td>10</td>\n",
       "      <td>1</td>\n",
       "      <td>1</td>\n",
       "      <td>2</td>\n",
       "      <td>1</td>\n",
       "      <td>0</td>\n",
       "      <td>14</td>\n",
       "      <td>9</td>\n",
       "      <td>1</td>\n",
       "    </tr>\n",
       "    <tr>\n",
       "      <th>ARRIVAL</th>\n",
       "      <td>0</td>\n",
       "      <td>0</td>\n",
       "      <td>0</td>\n",
       "      <td>0</td>\n",
       "      <td>0</td>\n",
       "      <td>0</td>\n",
       "      <td>0</td>\n",
       "      <td>0</td>\n",
       "      <td>0</td>\n",
       "      <td>0</td>\n",
       "      <td>...</td>\n",
       "      <td>0</td>\n",
       "      <td>0</td>\n",
       "      <td>0</td>\n",
       "      <td>0</td>\n",
       "      <td>0</td>\n",
       "      <td>0</td>\n",
       "      <td>0</td>\n",
       "      <td>0</td>\n",
       "      <td>0</td>\n",
       "      <td>0</td>\n",
       "    </tr>\n",
       "    <tr>\n",
       "      <th>CLIMB</th>\n",
       "      <td>793</td>\n",
       "      <td>0</td>\n",
       "      <td>0</td>\n",
       "      <td>144</td>\n",
       "      <td>0</td>\n",
       "      <td>0</td>\n",
       "      <td>4</td>\n",
       "      <td>6</td>\n",
       "      <td>0</td>\n",
       "      <td>1</td>\n",
       "      <td>...</td>\n",
       "      <td>0</td>\n",
       "      <td>6</td>\n",
       "      <td>4</td>\n",
       "      <td>1</td>\n",
       "      <td>0</td>\n",
       "      <td>0</td>\n",
       "      <td>0</td>\n",
       "      <td>10</td>\n",
       "      <td>3</td>\n",
       "      <td>2</td>\n",
       "    </tr>\n",
       "    <tr>\n",
       "      <th>DEPARTURE</th>\n",
       "      <td>1</td>\n",
       "      <td>0</td>\n",
       "      <td>0</td>\n",
       "      <td>1</td>\n",
       "      <td>0</td>\n",
       "      <td>0</td>\n",
       "      <td>0</td>\n",
       "      <td>0</td>\n",
       "      <td>0</td>\n",
       "      <td>0</td>\n",
       "      <td>...</td>\n",
       "      <td>0</td>\n",
       "      <td>0</td>\n",
       "      <td>0</td>\n",
       "      <td>0</td>\n",
       "      <td>0</td>\n",
       "      <td>0</td>\n",
       "      <td>0</td>\n",
       "      <td>0</td>\n",
       "      <td>0</td>\n",
       "      <td>0</td>\n",
       "    </tr>\n",
       "    <tr>\n",
       "      <th>DESCENT</th>\n",
       "      <td>114</td>\n",
       "      <td>0</td>\n",
       "      <td>0</td>\n",
       "      <td>52</td>\n",
       "      <td>0</td>\n",
       "      <td>0</td>\n",
       "      <td>0</td>\n",
       "      <td>1</td>\n",
       "      <td>0</td>\n",
       "      <td>0</td>\n",
       "      <td>...</td>\n",
       "      <td>0</td>\n",
       "      <td>1</td>\n",
       "      <td>0</td>\n",
       "      <td>0</td>\n",
       "      <td>0</td>\n",
       "      <td>0</td>\n",
       "      <td>0</td>\n",
       "      <td>1</td>\n",
       "      <td>0</td>\n",
       "      <td>0</td>\n",
       "    </tr>\n",
       "    <tr>\n",
       "      <th>EN ROUTE</th>\n",
       "      <td>17</td>\n",
       "      <td>0</td>\n",
       "      <td>0</td>\n",
       "      <td>207</td>\n",
       "      <td>0</td>\n",
       "      <td>2</td>\n",
       "      <td>0</td>\n",
       "      <td>0</td>\n",
       "      <td>0</td>\n",
       "      <td>0</td>\n",
       "      <td>...</td>\n",
       "      <td>0</td>\n",
       "      <td>0</td>\n",
       "      <td>0</td>\n",
       "      <td>0</td>\n",
       "      <td>0</td>\n",
       "      <td>0</td>\n",
       "      <td>0</td>\n",
       "      <td>0</td>\n",
       "      <td>0</td>\n",
       "      <td>0</td>\n",
       "    </tr>\n",
       "    <tr>\n",
       "      <th>LANDING</th>\n",
       "      <td>0</td>\n",
       "      <td>0</td>\n",
       "      <td>0</td>\n",
       "      <td>0</td>\n",
       "      <td>0</td>\n",
       "      <td>0</td>\n",
       "      <td>0</td>\n",
       "      <td>0</td>\n",
       "      <td>0</td>\n",
       "      <td>0</td>\n",
       "      <td>...</td>\n",
       "      <td>0</td>\n",
       "      <td>0</td>\n",
       "      <td>0</td>\n",
       "      <td>0</td>\n",
       "      <td>0</td>\n",
       "      <td>0</td>\n",
       "      <td>0</td>\n",
       "      <td>0</td>\n",
       "      <td>0</td>\n",
       "      <td>0</td>\n",
       "    </tr>\n",
       "    <tr>\n",
       "      <th>LANDING ROLL</th>\n",
       "      <td>580</td>\n",
       "      <td>0</td>\n",
       "      <td>1</td>\n",
       "      <td>92</td>\n",
       "      <td>1</td>\n",
       "      <td>1</td>\n",
       "      <td>5</td>\n",
       "      <td>8</td>\n",
       "      <td>1</td>\n",
       "      <td>0</td>\n",
       "      <td>...</td>\n",
       "      <td>2</td>\n",
       "      <td>6</td>\n",
       "      <td>4</td>\n",
       "      <td>0</td>\n",
       "      <td>2</td>\n",
       "      <td>0</td>\n",
       "      <td>1</td>\n",
       "      <td>6</td>\n",
       "      <td>2</td>\n",
       "      <td>0</td>\n",
       "    </tr>\n",
       "    <tr>\n",
       "      <th>LOCAL</th>\n",
       "      <td>0</td>\n",
       "      <td>0</td>\n",
       "      <td>0</td>\n",
       "      <td>0</td>\n",
       "      <td>0</td>\n",
       "      <td>0</td>\n",
       "      <td>0</td>\n",
       "      <td>0</td>\n",
       "      <td>0</td>\n",
       "      <td>0</td>\n",
       "      <td>...</td>\n",
       "      <td>0</td>\n",
       "      <td>0</td>\n",
       "      <td>0</td>\n",
       "      <td>0</td>\n",
       "      <td>0</td>\n",
       "      <td>0</td>\n",
       "      <td>0</td>\n",
       "      <td>0</td>\n",
       "      <td>0</td>\n",
       "      <td>0</td>\n",
       "    </tr>\n",
       "    <tr>\n",
       "      <th>PARKED</th>\n",
       "      <td>2</td>\n",
       "      <td>0</td>\n",
       "      <td>0</td>\n",
       "      <td>0</td>\n",
       "      <td>0</td>\n",
       "      <td>0</td>\n",
       "      <td>0</td>\n",
       "      <td>0</td>\n",
       "      <td>0</td>\n",
       "      <td>0</td>\n",
       "      <td>...</td>\n",
       "      <td>0</td>\n",
       "      <td>0</td>\n",
       "      <td>0</td>\n",
       "      <td>0</td>\n",
       "      <td>0</td>\n",
       "      <td>0</td>\n",
       "      <td>0</td>\n",
       "      <td>0</td>\n",
       "      <td>0</td>\n",
       "      <td>0</td>\n",
       "    </tr>\n",
       "    <tr>\n",
       "      <th>TAKEOFF RUN</th>\n",
       "      <td>773</td>\n",
       "      <td>0</td>\n",
       "      <td>0</td>\n",
       "      <td>80</td>\n",
       "      <td>1</td>\n",
       "      <td>2</td>\n",
       "      <td>11</td>\n",
       "      <td>10</td>\n",
       "      <td>0</td>\n",
       "      <td>0</td>\n",
       "      <td>...</td>\n",
       "      <td>0</td>\n",
       "      <td>4</td>\n",
       "      <td>5</td>\n",
       "      <td>0</td>\n",
       "      <td>0</td>\n",
       "      <td>0</td>\n",
       "      <td>0</td>\n",
       "      <td>5</td>\n",
       "      <td>3</td>\n",
       "      <td>0</td>\n",
       "    </tr>\n",
       "    <tr>\n",
       "      <th>TAXI</th>\n",
       "      <td>16</td>\n",
       "      <td>0</td>\n",
       "      <td>0</td>\n",
       "      <td>0</td>\n",
       "      <td>0</td>\n",
       "      <td>0</td>\n",
       "      <td>0</td>\n",
       "      <td>1</td>\n",
       "      <td>0</td>\n",
       "      <td>0</td>\n",
       "      <td>...</td>\n",
       "      <td>0</td>\n",
       "      <td>0</td>\n",
       "      <td>0</td>\n",
       "      <td>0</td>\n",
       "      <td>0</td>\n",
       "      <td>0</td>\n",
       "      <td>0</td>\n",
       "      <td>0</td>\n",
       "      <td>0</td>\n",
       "      <td>0</td>\n",
       "    </tr>\n",
       "  </tbody>\n",
       "</table>\n",
       "<p>12 rows × 528 columns</p>\n",
       "</div>"
      ],
      "text/plain": [
       "Operator      1US AIRWAYS  ABELAG AVIATION  ABSA AEROLINHAS BRASILEIRAS  \\\n",
       "Flight Phase                                                              \n",
       "APPROACH             1454                1                            1   \n",
       "ARRIVAL                 0                0                            0   \n",
       "CLIMB                 793                0                            0   \n",
       "DEPARTURE               1                0                            0   \n",
       "DESCENT               114                0                            0   \n",
       "EN ROUTE               17                0                            0   \n",
       "LANDING                 0                0                            0   \n",
       "LANDING ROLL          580                0                            1   \n",
       "LOCAL                   0                0                            0   \n",
       "PARKED                  2                0                            0   \n",
       "TAKEOFF RUN           773                0                            0   \n",
       "TAXI                   16                0                            0   \n",
       "\n",
       "Operator      ABX AIR  ACM AVIATION  ACTION AIRLINES  ADI SHUTTLE GROUP  \\\n",
       "Flight Phase                                                              \n",
       "APPROACH          462             0                5                  8   \n",
       "ARRIVAL             0             0                0                  0   \n",
       "CLIMB             144             0                0                  4   \n",
       "DEPARTURE           1             0                0                  0   \n",
       "DESCENT            52             0                0                  0   \n",
       "EN ROUTE          207             0                2                  0   \n",
       "LANDING             0             0                0                  0   \n",
       "LANDING ROLL       92             1                1                  5   \n",
       "LOCAL               0             0                0                  0   \n",
       "PARKED              0             0                0                  0   \n",
       "TAKEOFF RUN        80             1                2                 11   \n",
       "TAXI                0             0                0                  0   \n",
       "\n",
       "Operator      AER LINGUS  AERO AIR  AERO CHARTER AND TRANSPORT  \\\n",
       "Flight Phase                                                     \n",
       "APPROACH               9         1                           0   \n",
       "ARRIVAL                0         0                           0   \n",
       "CLIMB                  6         0                           1   \n",
       "DEPARTURE              0         0                           0   \n",
       "DESCENT                1         0                           0   \n",
       "EN ROUTE               0         0                           0   \n",
       "LANDING                0         0                           0   \n",
       "LANDING ROLL           8         1                           0   \n",
       "LOCAL                  0         0                           0   \n",
       "PARKED                 0         0                           0   \n",
       "TAKEOFF RUN           10         0                           0   \n",
       "TAXI                   1         0                           0   \n",
       "\n",
       "Operator              ...           WINAIR  WINGS WEST  WORLD AIRWAYS  \\\n",
       "Flight Phase          ...                                               \n",
       "APPROACH              ...                0          10              1   \n",
       "ARRIVAL               ...                0           0              0   \n",
       "CLIMB                 ...                0           6              4   \n",
       "DEPARTURE             ...                0           0              0   \n",
       "DESCENT               ...                0           1              0   \n",
       "EN ROUTE              ...                0           0              0   \n",
       "LANDING               ...                0           0              0   \n",
       "LANDING ROLL          ...                2           6              4   \n",
       "LOCAL                 ...                0           0              0   \n",
       "PARKED                ...                0           0              0   \n",
       "TAKEOFF RUN           ...                0           4              5   \n",
       "TAXI                  ...                0           0              0   \n",
       "\n",
       "Operator      WORLD ATLANTIC AIRLINES  WORLDWIDE JET CHARTER  XIAMEN AIRLINES  \\\n",
       "Flight Phase                                                                    \n",
       "APPROACH                            1                      2                1   \n",
       "ARRIVAL                             0                      0                0   \n",
       "CLIMB                               1                      0                0   \n",
       "DEPARTURE                           0                      0                0   \n",
       "DESCENT                             0                      0                0   \n",
       "EN ROUTE                            0                      0                0   \n",
       "LANDING                             0                      0                0   \n",
       "LANDING ROLL                        0                      2                0   \n",
       "LOCAL                               0                      0                0   \n",
       "PARKED                              0                      0                0   \n",
       "TAKEOFF RUN                         0                      0                0   \n",
       "TAXI                                0                      0                0   \n",
       "\n",
       "Operator      XL AIRWAYS UK  XOJET  XTRA AIRWAYS  ZANTOP INTL AIRLINES  \n",
       "Flight Phase                                                            \n",
       "APPROACH                  0     14             9                     1  \n",
       "ARRIVAL                   0      0             0                     0  \n",
       "CLIMB                     0     10             3                     2  \n",
       "DEPARTURE                 0      0             0                     0  \n",
       "DESCENT                   0      1             0                     0  \n",
       "EN ROUTE                  0      0             0                     0  \n",
       "LANDING                   0      0             0                     0  \n",
       "LANDING ROLL              1      6             2                     0  \n",
       "LOCAL                     0      0             0                     0  \n",
       "PARKED                    0      0             0                     0  \n",
       "TAKEOFF RUN               0      5             3                     0  \n",
       "TAXI                      0      0             0                     0  \n",
       "\n",
       "[12 rows x 528 columns]"
      ]
     },
     "execution_count": 29,
     "metadata": {},
     "output_type": "execute_result"
    }
   ],
   "source": [
    "#plane_data.crosstab(plane_data['Species Name'], plane_data['Flight Phase'])\n",
    "contTab = pd.crosstab(plane_data['Flight Phase'], plane_data['Operator'])\n",
    "contTab\n"
   ]
  },
  {
   "cell_type": "code",
   "execution_count": 47,
   "metadata": {},
   "outputs": [],
   "source": [
    "contTab = contTab[contTab.loc[:, contTab.columns] > 0]\n"
   ]
  },
  {
   "cell_type": "code",
   "execution_count": 58,
   "metadata": {},
   "outputs": [
    {
     "data": {
      "text/plain": [
       "(array([0, 1, 2, 3, 4, 5, 6, 7, 8, 9]), <a list of 10 Text xticklabel objects>)"
      ]
     },
     "execution_count": 58,
     "metadata": {},
     "output_type": "execute_result"
    },
    {
     "data": {
      "image/png": "[encoded data removed]",
      "text/plain": [
       "<matplotlib.figure.Figure at 0x1a26090940>"
      ]
     },
     "metadata": {},
     "output_type": "display_data"
    }
   ],
   "source": [
    "# Another Method of plotting using seaborn\n",
    "\n",
    "# Get the numnber of occurances of each operator\n",
    "operator_counts = plane_data.Operator.value_counts()\n",
    "\n",
    "# Split and Save the Operator names in a variable\n",
    "operators = operator_counts.index\n",
    "\n",
    "# Split and Save the counts in another variable\n",
    "counts = operator_counts.get_values()\n",
    "\n",
    "barplot = sns.barplot(x=operators[:10], y=counts[:10])\n",
    "barplot\n",
    "plt.xticks(rotation=90)\n"
   ]
  },
  {
   "cell_type": "code",
   "execution_count": null,
   "metadata": {},
   "outputs": [],
   "source": []
  }
 ],
 "metadata": {
  "kernelspec": {
   "display_name": "Python 3",
   "language": "python",
   "name": "python3"
  },
  "language_info": {
   "codemirror_mode": {
    "name": "ipython",
    "version": 3
   },
   "file_extension": ".py",
   "mimetype": "text/x-python",
   "name": "python",
   "nbconvert_exporter": "python",
   "pygments_lexer": "ipython3",
   "version": "3.6.4"
  }
 },
 "nbformat": 4,
 "nbformat_minor": 2
}
